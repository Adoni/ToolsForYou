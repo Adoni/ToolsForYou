{
 "cells": [
  {
   "cell_type": "code",
   "execution_count": 2,
   "metadata": {},
   "outputs": [],
   "source": [
    "import findspark\n",
    "findspark.init()\n",
    "from pyspark.ml.clustering import LDA\n",
    "from pyspark.context import SparkContext\n",
    "from pyspark.sql.session import SparkSession\n",
    "sc = SparkContext('local')\n",
    "spark = SparkSession(sc)"
   ]
  },
  {
   "cell_type": "code",
   "execution_count": 4,
   "metadata": {},
   "outputs": [],
   "source": [
    "dataset = spark.read.format(\"libsvm\").load(\"./transfered_data_libsvm.txt\")"
   ]
  },
  {
   "cell_type": "code",
   "execution_count": 5,
   "metadata": {
    "collapsed": true
   },
   "outputs": [],
   "source": [
    "lda = LDA(k=10, maxIter=10)\n",
    "model = lda.fit(dataset)"
   ]
  },
  {
   "cell_type": "code",
   "execution_count": 22,
   "metadata": {
    "collapsed": true
   },
   "outputs": [],
   "source": [
    "def show(model):\n",
    "    feature_names=dict()\n",
    "    for i,line in enumerate(open('./feature_names.txt')):\n",
    "        feature_names[i]=line.strip()\n",
    "    topics = model.describeTopics(10)\n",
    "    for row in topics.collect():\n",
    "        message = \"Topic #%d: \" % row.topic\n",
    "        topic_words=list(map(lambda wid:feature_names[int(wid)],row.termIndices))\n",
    "        message += \" \".join(topic_words)\n",
    "        print(message)"
   ]
  },
  {
   "cell_type": "code",
   "execution_count": 23,
   "metadata": {},
   "outputs": [
    {
     "name": "stdout",
     "output_type": "stream",
     "text": [
      "Topic #0: 公司 中国 市场 企业 投资 发展 产品 服务 行业 经济\n",
      "Topic #1: 关注 二维码 女人 识别 男人 生活 免费 健康 点击 微信\n",
      "Topic #2: 关注 市场 时间 公司 工作 技术 情况 股票 数据 指数\n",
      "Topic #3: 工作 人员 活动 招聘 时间 医院 微信 中国 单位 全国\n",
      "Topic #4: 汽车 市场 技术 中国 品牌 系统 车型 产品 设计 手机\n",
      "Topic #5: 中国 孩子 宝宝 国家 城市 教育 韩国 学生 家庭 时间\n",
      "Topic #6: 设计 酒店 时间 空间 建筑 地址 生活 活动 世界 手机\n",
      "Topic #7: 孩子 父母 妈妈 时间 生活 学习 老师 工作 朋友 人生\n",
      "Topic #8: 中国 美国 日本 二维码 关注 孩子 韩国 世界 识别 国家\n",
      "Topic #9: 生活 喜欢 电影 时间 朋友 微信 第一 中国 女人 世界\n"
     ]
    }
   ],
   "source": [
    "show(model)"
   ]
  }
 ],
 "metadata": {
  "kernelspec": {
   "display_name": "Python 3",
   "language": "python",
   "name": "python3"
  },
  "language_info": {
   "codemirror_mode": {
    "name": "ipython",
    "version": 3
   },
   "file_extension": ".py",
   "mimetype": "text/x-python",
   "name": "python",
   "nbconvert_exporter": "python",
   "pygments_lexer": "ipython3",
   "version": "3.6.2"
  }
 },
 "nbformat": 4,
 "nbformat_minor": 2
}
