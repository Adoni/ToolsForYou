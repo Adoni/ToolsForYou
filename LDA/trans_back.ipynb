{
 "cells": [
  {
   "cell_type": "code",
   "execution_count": 4,
   "metadata": {},
   "outputs": [],
   "source": [
    "feature_names=dict()\n",
    "for i,line in enumerate(open('./feature_names.txt')):\n",
    "    feature_names[i+1]=line.strip()"
   ]
  },
  {
   "cell_type": "code",
   "execution_count": 5,
   "metadata": {},
   "outputs": [
    {
     "name": "stdout",
     "output_type": "stream",
     "text": [
      "Topic #0: 发布 血液 期间 转载 女士 授权 风格 身边 痛苦 给予 搭配 那种 品牌 价格 值得 现实 指出 协议 启动 忘记\n",
      "Topic #1: 建立 语音 妻子 男孩 风格 搭配 指出 交通 身体 地铁 期间 降低 全新 房子 时刻 那种 来源 热点 获取 学会\n",
      "Topic #2: 值得 增长 天天 血液 资产 编辑 那种 痛苦 减肥 留下 成都 想象 老人 支持 人口 带来 业绩 道路 印象 不好\n",
      "Topic #3: 痛苦 做出 元素 建立 期间 那种 好好 公开 利益 品牌 印象 忘记 领取 说话 治疗 身边 想法 网友 业绩 吸引\n",
      "Topic #4: 适量 团队 感情 症状 忘记 订阅 痛苦 发布 喜欢 好吃 那种 本文 电视 美好 拍摄 领取 人生 设计师 经历 女士\n",
      "Topic #5: 搭配 指出 建立 妻子 汽车 下降 战略 互联网 学历 产品 特色 痛苦 忘记 网友 背后 传统 黑色 单车 年度 办法\n",
      "Topic #6: 期间 值得 那种 痛苦 印象 部门 好好 领取 团队 建立 简单 价格 说话 设计师 过程 食物 设置 指数 症状 兴趣\n",
      "Topic #7: 期间 搭配 协议 指出 获取 慢慢 健身 心中 预期 过程 超过 白色 销量 建立 阅读 治疗 妻子 转载 建议 推进\n",
      "Topic #8: 说话 导致 含有 两会 忘记 印象 天天 那种 好好 完善 父母 公共 资产 困难 学习 症状 痛苦 安排 优惠 适量\n",
      "Topic #9: 接触 想法 忘记 机会 转载 说话 销量 痛苦 开发 妈妈 设计师 适合 能源 公开 授权 搭配 道路 老板 微博 品牌\n"
     ]
    }
   ],
   "source": [
    "for topic_idx,line in enumerate(open('./20topics.txt')):\n",
    "    topic=line.strip().split('|')[2].strip().replace('[','').replace(']','').split(', ')\n",
    "    topic=map(lambda x:int(x), topic)\n",
    "    topic_words=list(map(lambda wid:feature_names[wid],topic))\n",
    "    message = \"Topic #%d: \" % topic_idx\n",
    "    message += \" \".join(topic_words)\n",
    "    print(message)"
   ]
  },
  {
   "cell_type": "code",
   "execution_count": null,
   "metadata": {},
   "outputs": [],
   "source": []
  }
 ],
 "metadata": {
  "kernelspec": {
   "display_name": "Python 3",
   "language": "python",
   "name": "python3"
  },
  "language_info": {
   "codemirror_mode": {
    "name": "ipython",
    "version": 3
   },
   "file_extension": ".py",
   "mimetype": "text/x-python",
   "name": "python",
   "nbconvert_exporter": "python",
   "pygments_lexer": "ipython3",
   "version": "3.5.1"
  }
 },
 "nbformat": 4,
 "nbformat_minor": 2
}
