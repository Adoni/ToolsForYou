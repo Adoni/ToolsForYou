{
 "cells": [
  {
   "cell_type": "code",
   "execution_count": 11,
   "metadata": {
    "collapsed": true
   },
   "outputs": [],
   "source": [
    "feature_names=dict()\n",
    "for i,line in enumerate(open('./feature_names.txt')):\n",
    "    feature_names[i]=line.strip()"
   ]
  },
  {
   "cell_type": "code",
   "execution_count": 8,
   "metadata": {},
   "outputs": [
    {
     "name": "stdout",
     "output_type": "stream",
     "text": [
      "959 199 643 979 959 199 643 979\n",
      "\n",
      "阅读 原文 点击 领取 阅读 原文 点击 领取\n"
     ]
    }
   ],
   "source": [
    "for line in open('./transfered_data_id.txt'):\n",
    "    print(line)\n",
    "    text=' '.join(map(lambda x:feature_names[int(x)],line.strip().split(' ')))\n",
    "    print(text)\n",
    "    break"
   ]
  },
  {
   "cell_type": "code",
   "execution_count": 12,
   "metadata": {},
   "outputs": [
    {
     "name": "stdout",
     "output_type": "stream",
     "text": [
      "Topic #0: 中国 公司 工作 企业 产品 管理 品牌 员工 行业 成功 时间 学习 发展 第一 团队 美国 市场 能力 老板 生活\n",
      "Topic #1: 工作 教育 教师 医院 人员 管理 医生 学生 发展 服务 单位 医疗 全国 建设 学校 专业 考试 患者 国家 社会\n",
      "Topic #2: 孩子 妈妈 生活 喜欢 女人 时间 男人 宝宝 父母 家长 朋友 身体 发现 感觉 选择 特别 东西 效果 皮肤 老师\n",
      "Topic #3: 时间 活动 中国 手机 工作 免费 电话 男人 交通 优惠 车辆 生活 服务 内容 北京 产品 女人 第一 小编 关注\n",
      "Topic #4: 微信 生活 朋友 时间 酒店 地址 文章 喜欢 推荐 点击 世界 公众 人生 阅读 美食 快乐 分钟 查看 关注 即可\n",
      "Topic #5: 公司 企业 法律 情况 家庭 工作 时间 中国 发生 信息 贷款 申请 国家 管理 相关 治疗 合同 收入 提供 风险\n",
      "Topic #6: 中国 生活 世界 时间 孩子 工作 关注 第一 美国 喜欢 女人 朋友 点击 人生 韩国 选择 微信 故事 阅读 希望\n",
      "Topic #7: 中国 市场 公司 企业 投资 发展 银行 经济 金融 行业 产品 工作 资金 技术 增长 风险 管理 业务 数据 时间\n",
      "Topic #8: 二维码 关注 识别 女人 男人 健康 微信 免费 身体 生活 简介 点击 时间 方法 作用 订阅 选择 女性 朋友 搭配\n",
      "Topic #9: 手机 点击 微信 房价 关注 房子 广告 城市 功能 阅读 设计 系统 价格 选择 原文 摄影 信息 市场 北京 空间\n"
     ]
    }
   ],
   "source": [
    "for topic_idx,line in enumerate(open('./20topics.txt')):\n",
    "    topic=line.strip().split('|')[2].strip().replace('[','').replace(']','').split(', ')\n",
    "    topic=map(lambda x:int(x), topic)\n",
    "    topic_words=list(map(lambda wid:feature_names[wid],topic))\n",
    "    message = \"Topic #%d: \" % topic_idx\n",
    "    message += \" \".join(topic_words)\n",
    "    print(message)"
   ]
  },
  {
   "cell_type": "code",
   "execution_count": null,
   "metadata": {
    "collapsed": true
   },
   "outputs": [],
   "source": []
  }
 ],
 "metadata": {
  "kernelspec": {
   "display_name": "Python 3",
   "language": "python",
   "name": "python3"
  },
  "language_info": {
   "codemirror_mode": {
    "name": "ipython",
    "version": 3
   },
   "file_extension": ".py",
   "mimetype": "text/x-python",
   "name": "python",
   "nbconvert_exporter": "python",
   "pygments_lexer": "ipython3",
   "version": "3.6.2"
  }
 },
 "nbformat": 4,
 "nbformat_minor": 2
}
