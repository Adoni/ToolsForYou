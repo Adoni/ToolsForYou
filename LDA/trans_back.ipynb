{
 "cells": [
  {
   "cell_type": "code",
   "execution_count": 60,
   "metadata": {
    "collapsed": true
   },
   "outputs": [],
   "source": [
    "feature_names=dict()\n",
    "for i,line in enumerate(open('./feature_names.txt')):\n",
    "    feature_names[i+1]=line.strip()"
   ]
  },
  {
   "cell_type": "code",
   "execution_count": 61,
   "metadata": {},
   "outputs": [
    {
     "name": "stdout",
     "output_type": "stream",
     "text": [
      "959 199 643 979 959 199 643 979\n",
      "\n",
      "阅读 原文 点击 领取 阅读 原文 点击 领取\n"
     ]
    }
   ],
   "source": [
    "for line in open('./transfered_data_id.txt'):\n",
    "    print(line)\n",
    "    text=' '.join(map(lambda x:feature_names[int(x)],line.strip().split(' ')))\n",
    "    print(text)\n",
    "    break"
   ]
  },
  {
   "cell_type": "code",
   "execution_count": 62,
   "metadata": {},
   "outputs": [
    {
     "name": "stdout",
     "output_type": "stream",
     "text": [
      "Topic #0: 产业 咨询 中医 用于 永远 技巧 手术 工资 设置 系列 数字 互动 干净 智慧 消费 身边 血液 公共 时期 符合\n",
      "Topic #1: 工业 算是 价格 公共 朋友圈 音乐 人口 保障 拒绝 不错 技巧 协议 工具 直播 发动机 时期 告诉 背景 有限 建议\n",
      "Topic #2: 学院 好看 定位 父亲 教授 媒体 家里 老婆 父母 学校 时期 家人 学历 儿子 健身 成都 背景 生意 女人 英国\n",
      "Topic #3: 注册 时期 设置 地区 配置 生意 上方 空气 施工 专家 均匀 文件 电视 建立 中医 充满 公告 优势 中央 舒适\n",
      "Topic #4: 搜索 演员 回到 很快 测试 商品 长期 摄影 适量 推广 设置 韩国 原因 板块 追求 质量 故事 感情 领导 国际\n",
      "Topic #5: 中医 国内 美元 发动机 面积 确实 全世界 经历 交流 工业 放心 均匀 建议 之间 政治 化妆 发现 改造 来到 患者\n",
      "Topic #6: 生意 电话 头发 有限公司 商品 人物 时期 专家 事实 工业 电子 符合 发挥 业绩 政策 年龄 感情 布局 水果 熟悉\n",
      "Topic #7: 公共 工资 投稿 价格 中医 金额 重视 血液 资讯 经历 风格 发动机 费用 基础 世纪 产业 价值 增强 互联网 干净\n",
      "Topic #8: 做法 身份 作品 分析 留言 沟通 恢复 食材 享受 时期 获取 区域 白色 方案 过程 导演 功效 医疗 办理 危险\n",
      "Topic #9: 关心 事故 评论 头发 充满 策略 很快 计算 演员 电话 生意 出生 做法 深度 适量 承担 全球 软件 瞬间 有限公司\n"
     ]
    }
   ],
   "source": [
    "for topic_idx,line in enumerate(open('./20topics.txt')):\n",
    "    topic=line.strip().split('|')[2].strip().replace('[','').replace(']','').split(', ')\n",
    "    topic=map(lambda x:int(x), topic)\n",
    "    topic_words=list(map(lambda wid:feature_names[wid],topic))\n",
    "    message = \"Topic #%d: \" % topic_idx\n",
    "    message += \" \".join(topic_words)\n",
    "    print(message)"
   ]
  },
  {
   "cell_type": "code",
   "execution_count": null,
   "metadata": {
    "collapsed": true
   },
   "outputs": [],
   "source": []
  }
 ],
 "metadata": {
  "kernelspec": {
   "display_name": "Python 3",
   "language": "python",
   "name": "python3"
  },
  "language_info": {
   "codemirror_mode": {
    "name": "ipython",
    "version": 3
   },
   "file_extension": ".py",
   "mimetype": "text/x-python",
   "name": "python",
   "nbconvert_exporter": "python",
   "pygments_lexer": "ipython3",
   "version": "3.6.2"
  }
 },
 "nbformat": 4,
 "nbformat_minor": 2
}
