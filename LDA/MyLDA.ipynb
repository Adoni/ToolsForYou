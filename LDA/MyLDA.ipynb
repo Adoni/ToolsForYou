{
 "cells": [
  {
   "cell_type": "code",
   "execution_count": 1,
   "metadata": {},
   "outputs": [],
   "source": [
    "import numpy as np\n",
    "import scipy\n",
    "from matplotlib import pyplot as plt\n",
    "import seaborn as sns"
   ]
  },
  {
   "cell_type": "code",
   "execution_count": 24,
   "metadata": {},
   "outputs": [],
   "source": [
    "topic_size = 50\n",
    "document_size = 1\n",
    "vocabulary_size = 102660\n",
    "topic_concentration = 0.01\n",
    "document_concentration = 0.01"
   ]
  },
  {
   "cell_type": "markdown",
   "metadata": {},
   "source": [
    "Initialize $\\lambda$ obeys gamma distribution, then calculate $E(log\\beta)$"
   ]
  },
  {
   "cell_type": "code",
   "execution_count": 25,
   "metadata": {},
   "outputs": [],
   "source": [
    "def diriExpectationVector(gamma):\n",
    "    expElogtheta = np.zeros(shape = gamma.shape)\n",
    "    rowSum = gamma.sum()\n",
    "    rowDigamma = scipy.special.digamma(rowSum)\n",
    "    print(gamma.shape[0])\n",
    "    for i in range (0, gamma.shape[0]):\n",
    "        expElogtheta[i] = np.exp(scipy.special.digamma(gamma[i]) - rowDigamma)  \n",
    "    return expElogtheta"
   ]
  },
  {
   "cell_type": "code",
   "execution_count": 2,
   "metadata": {},
   "outputs": [
    {
     "data": {
      "text/plain": [
       "-0.57721566490153309"
      ]
     },
     "execution_count": 2,
     "metadata": {},
     "output_type": "execute_result"
    }
   ],
   "source": [
    "scipy.special.digamma(1)"
   ]
  },
  {
   "cell_type": "code",
   "execution_count": 26,
   "metadata": {},
   "outputs": [],
   "source": [
    "def diriExpectationMatrix(lambd):\n",
    "    expElogbeta = np.zeros(shape = lambd.shape)\n",
    "    for i in range (0, lambd.shape[0]):\n",
    "        rowSum = lambd[i].sum()\n",
    "        rowDigamma = scipy.special.digamma(rowSum)\n",
    "        for j in range (0, lambd.shape[1]):\n",
    "            x = scipy.special.digamma(lambd[i][j])\n",
    "            expElogbeta[i][j] = np.exp(x - rowDigamma)  \n",
    "    return expElogbeta"
   ]
  },
  {
   "cell_type": "code",
   "execution_count": 32,
   "metadata": {},
   "outputs": [
    {
     "name": "stdout",
     "output_type": "stream",
     "text": [
      "*** KeyboardInterrupt exception caught in code being profiled."
     ]
    }
   ],
   "source": [
    "def diriExpectationPartMatrix(lambd):\n",
    "    part_expElogbeta = np.zeros(shape = lambd.shape)\n",
    "    for i in range (0, lambd.shape[0]):\n",
    "        rowSum = lambd[i].sum()\n",
    "        rowDigamma = scipy.special.digamma(rowSum)\n",
    "        for j in wids:\n",
    "            x = scipy.special.digamma(lambd[i][j])\n",
    "            part_expElogbeta[i][j] = np.exp(x - rowDigamma)\n",
    "                \n",
    "%lprun -f diriExpectationPartMatrix diriExpectationPartMatrix(lambd)        "
   ]
  },
  {
   "cell_type": "code",
   "execution_count": 29,
   "metadata": {},
   "outputs": [],
   "source": [
    "np.random.seed(0)\n",
    "lambd = np.random.gamma(100, 1.0/100, (topic_size, vocabulary_size))\n",
    "expElogbeta = diriExpectationMatrix(lambd)"
   ]
  },
  {
   "cell_type": "code",
   "execution_count": 16,
   "metadata": {},
   "outputs": [
    {
     "name": "stdout",
     "output_type": "stream",
     "text": [
      "The line_profiler extension is already loaded. To reload it, use:\n",
      "  %reload_ext line_profiler\n"
     ]
    }
   ],
   "source": [
    "%load_ext line_profiler"
   ]
  },
  {
   "cell_type": "code",
   "execution_count": 22,
   "metadata": {},
   "outputs": [],
   "source": [
    "%lprun -f diriExpectationMatrix diriExpectationMatrix(lambd)"
   ]
  },
  {
   "cell_type": "code",
   "execution_count": 28,
   "metadata": {},
   "outputs": [
    {
     "name": "stdout",
     "output_type": "stream",
     "text": [
      "128\n"
     ]
    }
   ],
   "source": []
  },
  {
   "cell_type": "code",
   "execution_count": 8,
   "metadata": {},
   "outputs": [],
   "source": [
    "# sns.distplot(lambd[0])\n",
    "# plt.show()"
   ]
  },
  {
   "cell_type": "markdown",
   "metadata": {},
   "source": [
    "Read document d to calculate $E(log\\theta_d)$"
   ]
  },
  {
   "cell_type": "code",
   "execution_count": 2,
   "metadata": {},
   "outputs": [
    {
     "ename": "NameError",
     "evalue": "name 'np' is not defined",
     "output_type": "error",
     "traceback": [
      "\u001b[0;31m---------------------------------------------------------------------------\u001b[0m",
      "\u001b[0;31mNameError\u001b[0m                                 Traceback (most recent call last)",
      "\u001b[0;32m<ipython-input-2-4a6a8f01aac3>\u001b[0m in \u001b[0;36m<module>\u001b[0;34m()\u001b[0m\n\u001b[0;32m----> 1\u001b[0;31m \u001b[0mstat\u001b[0m \u001b[0;34m=\u001b[0m \u001b[0mnp\u001b[0m\u001b[0;34m.\u001b[0m\u001b[0mzeros\u001b[0m\u001b[0;34m(\u001b[0m\u001b[0mshape\u001b[0m \u001b[0;34m=\u001b[0m \u001b[0;34m(\u001b[0m\u001b[0mtopic_size\u001b[0m\u001b[0;34m,\u001b[0m \u001b[0mvocabulary_size\u001b[0m\u001b[0;34m)\u001b[0m\u001b[0;34m)\u001b[0m\u001b[0;34m\u001b[0m\u001b[0m\n\u001b[0m\u001b[1;32m      2\u001b[0m \u001b[0;32mfor\u001b[0m \u001b[0mline\u001b[0m \u001b[0;32min\u001b[0m \u001b[0mopen\u001b[0m\u001b[0;34m(\u001b[0m\u001b[0;34m\"./small10Samples.txt\"\u001b[0m\u001b[0;34m)\u001b[0m\u001b[0;34m:\u001b[0m\u001b[0;34m\u001b[0m\u001b[0m\n\u001b[1;32m      3\u001b[0m     \u001b[0;31m# initialize gamma\u001b[0m\u001b[0;34m\u001b[0m\u001b[0;34m\u001b[0m\u001b[0m\n\u001b[1;32m      4\u001b[0m     \u001b[0mgamma\u001b[0m \u001b[0;34m=\u001b[0m \u001b[0mnp\u001b[0m\u001b[0;34m.\u001b[0m\u001b[0mrandom\u001b[0m\u001b[0;34m.\u001b[0m\u001b[0mgamma\u001b[0m\u001b[0;34m(\u001b[0m\u001b[0;36m100\u001b[0m\u001b[0;34m,\u001b[0m \u001b[0;36m1.0\u001b[0m\u001b[0;34m/\u001b[0m\u001b[0;36m100\u001b[0m\u001b[0;34m,\u001b[0m \u001b[0;34m(\u001b[0m\u001b[0mtopic_size\u001b[0m\u001b[0;34m)\u001b[0m\u001b[0;34m)\u001b[0m\u001b[0;34m\u001b[0m\u001b[0m\n\u001b[1;32m      5\u001b[0m     \u001b[0mmeanGammaChange\u001b[0m \u001b[0;34m=\u001b[0m \u001b[0;36m2.0\u001b[0m\u001b[0;34m\u001b[0m\u001b[0m\n",
      "\u001b[0;31mNameError\u001b[0m: name 'np' is not defined"
     ]
    }
   ],
   "source": [
    "stat = np.zeros(shape = (topic_size, vocabulary_size))\n",
    "for line in open(\"./small10Samples.txt\"):\n",
    "    # initialize gamma\n",
    "    gamma = np.random.gamma(100, 1.0/100, (topic_size))\n",
    "    meanGammaChange = 2.0\n",
    "    \n",
    "    # get words ids \n",
    "    line=line.strip()\n",
    "    pairs = line.split(' ')\n",
    "    pairs = pairs[1:]\n",
    "    wids = []\n",
    "    wcount=[]\n",
    "    for pair in pairs:\n",
    "        pair=pair.split(':')\n",
    "        pair[0]=int(pair[0])\n",
    "        pair[1]=int(pair[1])\n",
    "        wids.append(pair[0])\n",
    "        wcount.append(pair[1])\n",
    "    phi = np.zeros(shape=(topic_size, len(wids)))\n",
    "    while meanGammaChange > 1e-3:\n",
    "        # save last gamma\n",
    "        lastGamma = np.zeros(shape=(topic_size))\n",
    "        for i in range (0, topic_size):\n",
    "            lastGamma[i]=gamma[i]\n",
    "    \n",
    "        # change gamma and phi\n",
    "        expElogtheta = diriExpectationVector(gamma)\n",
    "        for k in range(0, topic_size):\n",
    "            for w in range(0, len(wids)):\n",
    "                phi[k,w] = expElogtheta[k]*expElogbeta[k,wids[w]]\n",
    "        for k in range(0, topic_size):\n",
    "            delta = 0.0\n",
    "            for w in range(0, len(wids)):\n",
    "                delta = delta + wcount[w]*phi[k,w]\n",
    "            gamma[k] = topic_concentration + delta\n",
    "        # calculate change\n",
    "        meanGammaChange = np.absolute(gamma - lastGamma).sum()/topic_size\n",
    "        print(meanGammaChange)\n",
    "        \n",
    "        "
   ]
  },
  {
   "cell_type": "code",
   "execution_count": null,
   "metadata": {},
   "outputs": [],
   "source": []
  },
  {
   "cell_type": "code",
   "execution_count": null,
   "metadata": {},
   "outputs": [],
   "source": []
  }
 ],
 "metadata": {
  "kernelspec": {
   "display_name": "Python 2",
   "language": "python",
   "name": "python2"
  },
  "language_info": {
   "codemirror_mode": {
    "name": "ipython",
    "version": 3
   },
   "file_extension": ".py",
   "mimetype": "text/x-python",
   "name": "python",
   "nbconvert_exporter": "python",
   "pygments_lexer": "ipython3",
   "version": "3.5.1"
  }
 },
 "nbformat": 4,
 "nbformat_minor": 2
}
