{
 "cells": [
  {
   "cell_type": "code",
   "execution_count": 1,
   "metadata": {
    "collapsed": true
   },
   "outputs": [],
   "source": [
    "from time import time\n",
    "from sklearn.feature_extraction.text import TfidfVectorizer, CountVectorizer\n",
    "from sklearn.decomposition import NMF, LatentDirichletAllocation\n",
    "from sklearn.datasets import fetch_20newsgroups\n",
    "from collections import Counter\n",
    "from scipy.sparse import lil_matrix\n",
    "from tqdm import tqdm"
   ]
  },
  {
   "cell_type": "code",
   "execution_count": 2,
   "metadata": {
    "collapsed": true
   },
   "outputs": [],
   "source": [
    "n_samples = 2000\n",
    "n_features = 1000\n",
    "n_components = 10\n",
    "n_top_words = 20"
   ]
  },
  {
   "cell_type": "code",
   "execution_count": 3,
   "metadata": {
    "collapsed": true
   },
   "outputs": [],
   "source": [
    "def print_top_words(model, feature_names, n_top_words):\n",
    "    for topic_idx, topic in enumerate(model.components_):\n",
    "        message = \"Topic #%d: \" % topic_idx\n",
    "        message += \" \".join([feature_names[i]\n",
    "                             for i in topic.argsort()[:-n_top_words - 1:-1]])\n",
    "        print(message)\n",
    "    print()"
   ]
  },
  {
   "cell_type": "code",
   "execution_count": 4,
   "metadata": {
    "collapsed": true
   },
   "outputs": [],
   "source": [
    "data_samples=[]\n",
    "for line in open('./wechat.txt'):\n",
    "    data_samples.append(line.strip())"
   ]
  },
  {
   "cell_type": "code",
   "execution_count": 6,
   "metadata": {},
   "outputs": [
    {
     "name": "stdout",
     "output_type": "stream",
     "text": [
      "Extracting tf features for LDA...\n",
      "done in 61.562s.\n",
      "\n"
     ]
    }
   ],
   "source": [
    "# Use tf (raw term count) features for LDA.\n",
    "print(\"Extracting tf features for LDA...\")\n",
    "tf_vectorizer = CountVectorizer(max_df=0.95, min_df=2,\n",
    "                                max_features=n_features)\n",
    "t0 = time()\n",
    "tf = tf_vectorizer.fit_transform(data_samples)\n",
    "print(\"done in %0.3fs.\" % (time() - t0))\n",
    "print()"
   ]
  },
  {
   "cell_type": "code",
   "execution_count": 7,
   "metadata": {
    "collapsed": true
   },
   "outputs": [],
   "source": [
    "tf_feature_names = tf_vectorizer.get_feature_names()#这是词表,名字一样是因为我们只需要后面这个，前面的可以覆盖了\n",
    "fout4=open('./feature_names.txt','w')\n",
    "fout4.write('\\n'.join(tf_feature_names))\n",
    "index=range(1,(len(tf_feature_names)+1))#这是下标列表\n",
    "#zip的作用你可以试一下\n",
    "tf_feature_names=dict(zip(tf_feature_names,index))#这里我们创建了一个dict，key是词，value是下标\n",
    "fout1=open('./transfered_data_text.txt','w')\n",
    "fout2=open('./transfered_data_id.txt','w')\n",
    "fout3=open('./transfered_data_libsvm.txt','w')\n",
    "\n",
    "for i,d in enumerate(data_samples):\n",
    "    #所以d是一篇文章，是一个string，i是下标，从0开始，这是enumerate这个函数的作用\n",
    "    #首先需要分割\n",
    "    #然后我们需要过滤\n",
    "    #这里的lambda的意思\n",
    "    d1=list(filter(lambda w:w in tf_feature_names,d.split(' ')))\n",
    "    fout1.write(' '.join(d1)+'\\n')\n",
    "    d2=list(map(lambda w:str(tf_feature_names[w]),d1))\n",
    "    fout2.write(' '.join(d2)+'\\n')\n",
    "    d3=Counter(d2)\n",
    "    d3=list(d3.items())\n",
    "    d3.sort(key=lambda x:int(x[0]))\n",
    "    d3=list(map(lambda v:'%s:%d'%(v),d3))\n",
    "    fout3.write(str(i)+' '+' '.join(d3)+'\\n')"
   ]
  },
  {
   "cell_type": "code",
   "execution_count": 12,
   "metadata": {
    "collapsed": true
   },
   "outputs": [],
   "source": [
    "fout4.close()"
   ]
  },
  {
   "cell_type": "code",
   "execution_count": 8,
   "metadata": {},
   "outputs": [
    {
     "name": "stderr",
     "output_type": "stream",
     "text": [
      "13243it [00:29, 443.16it/s]\n"
     ]
    }
   ],
   "source": [
    "data_samples=[]\n",
    "data = lil_matrix((13872, 1000))\n",
    "for i,line in tqdm(enumerate(open('./transfered_data_libsvm.txt'))):\n",
    "    line=line.strip().split(' ')\n",
    "    data_samples.append([])\n",
    "    for v in line[1:]:\n",
    "        v=v.split(':')\n",
    "        data[i,int(v[0])-1]=int(v[1])"
   ]
  },
  {
   "cell_type": "code",
   "execution_count": 9,
   "metadata": {},
   "outputs": [
    {
     "name": "stdout",
     "output_type": "stream",
     "text": [
      "Fitting LDA models with tf features, n_samples=2000 and n_features=1000...\n",
      "done in 121.400s.\n"
     ]
    }
   ],
   "source": [
    "print(\"Fitting LDA models with tf features, \"\n",
    "      \"n_samples=%d and n_features=%d...\"\n",
    "      % (n_samples, n_features))\n",
    "lda = LatentDirichletAllocation(n_components=n_components, max_iter=5,\n",
    "                                learning_method='online',\n",
    "                                learning_offset=50.,\n",
    "                                random_state=0)\n",
    "t0 = time()\n",
    "lda.fit(data)\n",
    "print(\"done in %0.3fs.\" % (time() - t0))"
   ]
  },
  {
   "cell_type": "code",
   "execution_count": 13,
   "metadata": {},
   "outputs": [
    {
     "name": "stdout",
     "output_type": "stream",
     "text": [
      "\n",
      "Topics in LDA model:\n",
      "1000\n",
      "Topic #0: 宝宝 健康 皮肤 身体 分钟 作用 疾病 时间 食物 效果 营养 即可 人体 治疗 医生 方法 导致 功能 医院 鸡蛋\n",
      "Topic #1: 活动 时间 工作 电话 地址 酒店 旅游 上海 招聘 免费 优惠 微信 报名 公司 中心 服务 客户 北京 公园 工资\n",
      "Topic #2: 关注 二维码 识别 女人 免费 简介 订阅 微信 男人 生活 点击 分享 健康 选择 添加 技巧 公众 轻松 搭配 知识\n",
      "Topic #3: 公司 产品 企业 技术 用户 数据 行业 市场 互联网 平台 品牌 服务 手机 发展 中国 系统 管理 员工 模式 客户\n",
      "Topic #4: 微信 点击 阅读 浏览器 播放 原文 回复 音乐 手机 支持 朋友 文章 查看 视频 公众 语音 内容 关注 时间 下方\n",
      "Topic #5: 公司 市场 投资 银行 汽车 金融 基金 资金 风险 上市 资产 价格 交易 机构 股票 业务 股份 行业 车型 企业\n",
      "Topic #6: 设计 电影 生活 搭配 空间 喜欢 选择 品牌 世界 中国 作品 第一 风格 感觉 时间 系列 时尚 自然 特别 适合\n",
      "Topic #7: 孩子 生活 女人 男人 朋友 喜欢 父母 人生 时间 妈妈 事情 工作 学习 发现 东西 老师 世界 家庭 第一 幸福\n",
      "Topic #8: 中国 美国 经济 国家 城市 韩国 发展 北京 房价 政府 房地产 市场 日本 乐天 企业 世界 社会 投资 政策 第一\n",
      "Topic #9: 工作 建设 管理 发展 项目 人员 服务 企业 国家 工程 单位 全国 交通 相关 信息 教育 社会 标准 部门 专业\n",
      "\n"
     ]
    }
   ],
   "source": [
    "print(\"\\nTopics in LDA model:\")\n",
    "feature_names = [line.strip() for line in open('./feature_names.txt')]\n",
    "print(len(feature_names))\n",
    "print_top_words(lda, feature_names, n_top_words)"
   ]
  },
  {
   "cell_type": "code",
   "execution_count": null,
   "metadata": {
    "collapsed": true
   },
   "outputs": [],
   "source": []
  }
 ],
 "metadata": {
  "kernelspec": {
   "display_name": "Python 3",
   "language": "python",
   "name": "python3"
  },
  "language_info": {
   "codemirror_mode": {
    "name": "ipython",
    "version": 3
   },
   "file_extension": ".py",
   "mimetype": "text/x-python",
   "name": "python",
   "nbconvert_exporter": "python",
   "pygments_lexer": "ipython3",
   "version": "3.6.2"
  }
 },
 "nbformat": 4,
 "nbformat_minor": 2
}
